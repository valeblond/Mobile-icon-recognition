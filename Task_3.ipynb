{
 "cells": [
  {
   "cell_type": "markdown",
   "metadata": {},
   "source": [
    "Imports needen only in Colab"
   ]
  },
  {
   "cell_type": "code",
   "execution_count": null,
   "metadata": {
    "colab": {
     "base_uri": "https://localhost:8080/",
     "height": 222
    },
    "colab_type": "code",
    "id": "tv4gqVHNJG3p",
    "outputId": "5e042faf-22df-4827-ef70-e493e480f222"
   },
   "outputs": [],
   "source": [
    "# !pip install -q tensorflow-gpu==2.0.0-beta0\n",
    "\n",
    "# import os\n",
    "# from google.colab import drive\n",
    "# drive.mount('/content/drive/')\n",
    "# try:\n",
    "#     os.chdir(\"drive/My Drive/snr/project\")\n",
    "# except FileNotFoundError:\n",
    "#     pass"
   ]
  },
  {
   "cell_type": "markdown",
   "metadata": {},
   "source": [
    "All other imports"
   ]
  },
  {
   "cell_type": "code",
   "execution_count": null,
   "metadata": {
    "colab": {},
    "colab_type": "code",
    "id": "EdqY-cKmJFus",
    "pycharm": {
     "is_executing": true
    }
   },
   "outputs": [],
   "source": [
    "import tensorflow as tf\n",
    "from tensorflow import keras\n",
    "\n",
    "from definitions import *\n",
    "from preprocessing import load_datasets, time_footprint"
   ]
  },
  {
   "cell_type": "markdown",
   "metadata": {
    "colab_type": "text",
    "id": "HTk8XbbCJFuw"
   },
   "source": [
    "# Load datasets"
   ]
  },
  {
   "cell_type": "code",
   "execution_count": null,
   "metadata": {
    "colab": {
     "base_uri": "https://localhost:8080/",
     "height": 104
    },
    "colab_type": "code",
    "id": "xCBBBtuYJFux",
    "outputId": "9aafb790-6dac-4f0c-ec0c-fbfa7d864602",
    "pycharm": {
     "is_executing": true
    }
   },
   "outputs": [],
   "source": [
    "train_ds, test_ds, val_ds = load_datasets()"
   ]
  },
  {
   "cell_type": "markdown",
   "metadata": {
    "colab_type": "text",
    "id": "1lg0lfcaJFu0"
   },
   "source": [
    "# Create model"
   ]
  },
  {
   "cell_type": "code",
   "execution_count": null,
   "metadata": {
    "colab": {
     "base_uri": "https://localhost:8080/",
     "height": 50
    },
    "colab_type": "code",
    "id": "DjO7tNsAJFu1",
    "outputId": "fbd5e198-b334-4a9c-f944-0832e1a075ca",
    "pycharm": {
     "is_executing": false
    }
   },
   "outputs": [],
   "source": [
    "ALPHA = 1.0  # controls the width of the network\n",
    "IMG_SHAPE = (IMG_SIZE, IMG_SIZE, 3)\n",
    "\n",
    "# Create the base model from the pre-trained model MobileNet V2\n",
    "base_model = tf.keras.applications.MobileNetV2(input_shape = IMG_SHAPE,\n",
    "                                               include_top = False, \n",
    "                                               alpha       = ALPHA,\n",
    "                                               weights     = 'imagenet')"
   ]
  },
  {
   "cell_type": "markdown",
   "metadata": {
    "colab_type": "text",
    "id": "Xt85SFLYJFu3"
   },
   "source": [
    "Now we want to train all layers of **MobileNetV2** model."
   ]
  },
  {
   "cell_type": "code",
   "execution_count": null,
   "metadata": {
    "colab": {
     "base_uri": "https://localhost:8080/",
     "height": 5527
    },
    "colab_type": "code",
    "collapsed": true,
    "id": "7zT1UqfSJFu4",
    "outputId": "1954b61e-af4c-42df-8165-0917833d38c6",
    "pycharm": {
     "is_executing": false
    }
   },
   "outputs": [],
   "source": [
    "base_model.summary()"
   ]
  },
  {
   "cell_type": "code",
   "execution_count": null,
   "metadata": {
    "colab": {},
    "colab_type": "code",
    "id": "aIJ7b4OkJFvA",
    "pycharm": {
     "is_executing": false
    }
   },
   "outputs": [],
   "source": [
    "base_model.trainable = True"
   ]
  },
  {
   "cell_type": "code",
   "execution_count": null,
   "metadata": {
    "colab": {},
    "colab_type": "code",
    "id": "dT9ke-Q3JFvD",
    "pycharm": {
     "is_executing": false
    }
   },
   "outputs": [],
   "source": [
    "model = tf.keras.Sequential([\n",
    "    base_model,\n",
    "    keras.layers.GlobalAveragePooling2D(),\n",
    "    keras.layers.Dense(NUMBER_OF_LABELS, activation='softmax')\n",
    "])"
   ]
  },
  {
   "cell_type": "code",
   "execution_count": null,
   "metadata": {
    "colab": {},
    "colab_type": "code",
    "id": "QoG0hFE1JFvJ",
    "pycharm": {
     "is_executing": false
    }
   },
   "outputs": [],
   "source": [
    "base_learning_rate = 5e-6\n",
    "model.compile(optimizer = tf.keras.optimizers.Adam(lr=base_learning_rate), \n",
    "              loss      = 'sparse_categorical_crossentropy', \n",
    "              metrics   = ['accuracy'])"
   ]
  },
  {
   "cell_type": "code",
   "execution_count": null,
   "metadata": {
    "colab": {
     "base_uri": "https://localhost:8080/",
     "height": 252
    },
    "colab_type": "code",
    "id": "Rde8yZqPJFvO",
    "outputId": "24d8e6b7-ddff-4147-aa5d-5d040dc5b650",
    "pycharm": {
     "is_executing": false
    }
   },
   "outputs": [],
   "source": [
    "model.summary()"
   ]
  },
  {
   "cell_type": "markdown",
   "metadata": {
    "colab_type": "text",
    "id": "zjwsTY_NJFvS"
   },
   "source": [
    "# Train model"
   ]
  },
  {
   "cell_type": "code",
   "execution_count": null,
   "metadata": {
    "colab": {
     "base_uri": "https://localhost:8080/",
     "height": 793
    },
    "colab_type": "code",
    "id": "zeaoKEQiJFvT",
    "outputId": "85a88e3d-4bbb-4fe2-a4fc-4f63e74cbdc9"
   },
   "outputs": [],
   "source": [
    "epochs          = 150\n",
    "steps_per_epoch = TRAIN_FILES//BATCH_SIZE\n",
    "val_steps       =   VAL_FILES//BATCH_SIZE\n",
    "\n",
    "time_fp = time_footprint()\n",
    "log_dir = os.path.join(LOG_DIR, 'task_3_a', time_fp)\n",
    "os.makedirs(log_dir)\n",
    "\n",
    "checkpoint_path = log_dir + \"/task_3_a_\" + time_fp + \".ckpt\"\n",
    "\n",
    "callbacks = [\n",
    "    keras.callbacks.TensorBoard(log_dir=log_dir),\n",
    "    tf.keras.callbacks.ModelCheckpoint(checkpoint_path,\n",
    "                                       save_weights_only=True,\n",
    "                                       verbose=1,\n",
    "                                       save_best_only=True,\n",
    "                                       monitor='val_loss')\n",
    "]\n",
    "\n",
    "\n",
    "history = model.fit(train_ds,\n",
    "                    epochs           = epochs,\n",
    "                    steps_per_epoch  = steps_per_epoch,\n",
    "                    validation_data  = val_ds, \n",
    "                    validation_steps = val_steps,\n",
    "                    callbacks        = callbacks)\n",
    "\n",
    "\n",
    "val_acc = history.history['val_accuracy'][0]\n",
    "\n",
    "model_name = \"task_3_a_\" + time_fp + '_acc_' + f'{val_acc:.4f}' + '.h5'\n",
    "model.save(MODEL_DIR + '/' + model_name)"
   ]
  },
  {
   "cell_type": "markdown",
   "metadata": {
    "colab_type": "text",
    "id": "Hi3BpDC7JFvW"
   },
   "source": [
    "## Create simpler model"
   ]
  },
  {
   "cell_type": "code",
   "execution_count": null,
   "metadata": {
    "colab": {},
    "colab_type": "code",
    "id": "AXcNybITJFvX",
    "pycharm": {
     "is_executing": false
    }
   },
   "outputs": [],
   "source": [
    "simpler_base_model = tf.keras.applications.MobileNetV2(input_shape = IMG_SHAPE,\n",
    "                                                       include_top = False, \n",
    "                                                       alpha       = ALPHA,\n",
    "                                                       weights     = 'imagenet')"
   ]
  },
  {
   "cell_type": "markdown",
   "metadata": {
    "colab_type": "text",
    "id": "zTEhIoz2JFva"
   },
   "source": [
    "Remove block_16 layers from base model"
   ]
  },
  {
   "cell_type": "code",
   "execution_count": null,
   "metadata": {
    "colab": {},
    "colab_type": "code",
    "id": "ZFIbxp-7JFva",
    "pycharm": {
     "is_executing": false
    }
   },
   "outputs": [],
   "source": [
    "last_layer_old = simpler_base_model.get_layer('block_15_project_BN').output\n",
    "x = keras.layers.Conv2D(**simpler_base_model.get_layer('Conv_1').get_config())(last_layer_old)\n",
    "x = keras.layers.BatchNormalization(**simpler_base_model.get_layer('Conv_1_bn').get_config())(x)\n",
    "last_layer_new = keras.layers.ReLU(**simpler_base_model.get_layer('out_relu').get_config())(x)"
   ]
  },
  {
   "cell_type": "code",
   "execution_count": null,
   "metadata": {
    "colab": {},
    "colab_type": "code",
    "id": "zv87ziG9JFvd",
    "pycharm": {
     "is_executing": false
    }
   },
   "outputs": [],
   "source": [
    "simpler_base_model = tf.keras.Model(inputs = simpler_base_model.layers[0].input, outputs = last_layer_new, name='Simpler')"
   ]
  },
  {
   "cell_type": "code",
   "execution_count": null,
   "metadata": {
    "colab": {},
    "colab_type": "code",
    "id": "bcCkaaCIJFvi",
    "pycharm": {
     "is_executing": false
    },
    "scrolled": true
   },
   "outputs": [],
   "source": [
    "simpler_base_model.summary()"
   ]
  },
  {
   "cell_type": "code",
   "execution_count": null,
   "metadata": {
    "colab": {},
    "colab_type": "code",
    "id": "9zn01jhyJFvl",
    "pycharm": {
     "is_executing": false
    }
   },
   "outputs": [],
   "source": [
    "simpler_base_model.trainable = True"
   ]
  },
  {
   "cell_type": "code",
   "execution_count": null,
   "metadata": {
    "colab": {},
    "colab_type": "code",
    "id": "N_KFze7-JFvn",
    "pycharm": {
     "is_executing": false
    }
   },
   "outputs": [],
   "source": [
    "simpler_model = tf.keras.Sequential([\n",
    "    simpler_base_model,\n",
    "    keras.layers.GlobalAveragePooling2D(),\n",
    "    keras.layers.Dense(NUMBER_OF_LABELS, activation='softmax')\n",
    "])"
   ]
  },
  {
   "cell_type": "code",
   "execution_count": null,
   "metadata": {
    "colab": {},
    "colab_type": "code",
    "id": "9tS9hN91JFvq",
    "pycharm": {
     "is_executing": false
    }
   },
   "outputs": [],
   "source": [
    "base_learning_rate = 5e-6\n",
    "simpler_model.compile(optimizer = tf.keras.optimizers.Adam(lr=base_learning_rate), \n",
    "                      loss      = 'sparse_categorical_crossentropy', \n",
    "                      metrics   = ['accuracy'])"
   ]
  },
  {
   "cell_type": "code",
   "execution_count": null,
   "metadata": {
    "colab": {},
    "colab_type": "code",
    "id": "3Z2-toJFJFvt",
    "pycharm": {
     "is_executing": false
    }
   },
   "outputs": [],
   "source": [
    "simpler_model.summary()"
   ]
  },
  {
   "cell_type": "markdown",
   "metadata": {
    "colab_type": "text",
    "id": "n7ShBtKNJFv0"
   },
   "source": [
    "# Train simpler model"
   ]
  },
  {
   "cell_type": "code",
   "execution_count": null,
   "metadata": {
    "colab": {},
    "colab_type": "code",
    "id": "rXerZVhCJFv1",
    "pycharm": {
     "is_executing": false
    }
   },
   "outputs": [],
   "source": [
    "epochs          = 150\n",
    "steps_per_epoch = TRAIN_FILES//BATCH_SIZE\n",
    "val_steps       =   VAL_FILES//BATCH_SIZE\n",
    "\n",
    "time_fp = time_footprint()\n",
    "log_dir = os.path.join(LOG_DIR, 'task_3_b', time_fp)\n",
    "os.makedirs(log_dir)\n",
    "\n",
    "checkpoint_path = log_dir + \"/task_3_b_\" + time_fp + \".ckpt\"\n",
    "\n",
    "callbacks = [\n",
    "    keras.callbacks.TensorBoard(log_dir=log_dir),\n",
    "    tf.keras.callbacks.ModelCheckpoint(checkpoint_path,\n",
    "                                       save_weights_only=True,\n",
    "                                       verbose=1,\n",
    "                                       save_best_only=True,\n",
    "                                       monitor='val_loss')\n",
    "]\n",
    "\n",
    "\n",
    "history = simpler_model.fit(train_ds,\n",
    "                            epochs           = epochs,\n",
    "                            steps_per_epoch  = steps_per_epoch,\n",
    "                            validation_data  = val_ds, \n",
    "                            validation_steps = val_steps,\n",
    "                            callbacks        = callbacks)\n",
    "\n",
    "\n",
    "val_acc = history.history['val_accuracy'][0]\n",
    "\n",
    "model_name = \"task_3_b_\" + time_fp + '_acc_' + f'{val_acc:.4f}' + '.h5'\n",
    "model.save(MODEL_DIR + '/' + model_name)"
   ]
  }
 ],
 "metadata": {
  "accelerator": "GPU",
  "colab": {
   "collapsed_sections": [],
   "name": "Task_3.ipynb",
   "provenance": [],
   "version": "0.3.2"
  },
  "kernelspec": {
   "display_name": "Python 3",
   "language": "python",
   "name": "python3"
  },
  "language_info": {
   "codemirror_mode": {
    "name": "ipython",
    "version": 3
   },
   "file_extension": ".py",
   "mimetype": "text/x-python",
   "name": "python",
   "nbconvert_exporter": "python",
   "pygments_lexer": "ipython3",
   "version": "3.6.7"
  }
 },
 "nbformat": 4,
 "nbformat_minor": 2
}
