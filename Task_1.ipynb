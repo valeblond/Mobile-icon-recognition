{
 "cells": [
  {
   "cell_type": "markdown",
   "metadata": {},
   "source": [
    "Imports needen only in Colab"
   ]
  },
  {
   "cell_type": "code",
   "execution_count": null,
   "metadata": {
    "colab": {
     "base_uri": "https://localhost:8080/",
     "height": 34
    },
    "colab_type": "code",
    "id": "wFXQulvAkqOF",
    "outputId": "8b8d697f-a73a-4365-ae11-84fed8cfa81e"
   },
   "outputs": [],
   "source": [
    "# !pip install -q tensorflow-gpu==2.0.0-beta0\n",
    "\n",
    "# import os\n",
    "# from google.colab import drive\n",
    "# drive.mount('/content/drive/')\n",
    "# try:\n",
    "#     os.chdir(\"drive/My Drive/snr/project\")\n",
    "# except FileNotFoundError:\n",
    "#     pass"
   ]
  },
  {
   "cell_type": "markdown",
   "metadata": {},
   "source": [
    "All other imports"
   ]
  },
  {
   "cell_type": "code",
   "execution_count": null,
   "metadata": {
    "colab": {},
    "colab_type": "code",
    "id": "vJQ7iVrZkqOK"
   },
   "outputs": [],
   "source": [
    "import os\n",
    "\n",
    "import tensorflow as tf\n",
    "from tensorflow import keras\n",
    "\n",
    "AUTOTUNE = tf.data.experimental.AUTOTUNE\n",
    "\n",
    "import numpy as np\n",
    "\n",
    "import matplotlib.pyplot as plt\n",
    "import matplotlib.image as mpimg\n",
    "\n",
    "from definitions import *\n",
    "from preprocessing import load_datasets, time_footprint, load_labels_datasets"
   ]
  },
  {
   "cell_type": "markdown",
   "metadata": {
    "colab_type": "text",
    "id": "JeDEMIJDkqOM"
   },
   "source": [
    "# Load datasets"
   ]
  },
  {
   "cell_type": "code",
   "execution_count": null,
   "metadata": {
    "colab": {},
    "colab_type": "code",
    "id": "8G2Krl6MkqON"
   },
   "outputs": [],
   "source": [
    "train_ds, test_ds, val_ds = load_datasets()"
   ]
  },
  {
   "cell_type": "markdown",
   "metadata": {
    "colab_type": "text",
    "id": "RaYSdPAnkqOP"
   },
   "source": [
    "# Create model"
   ]
  },
  {
   "cell_type": "code",
   "execution_count": null,
   "metadata": {
    "colab": {},
    "colab_type": "code",
    "id": "JB0fqnPrkqOP"
   },
   "outputs": [],
   "source": [
    "ALPHA = 1.0  # controls the width of the network\n",
    "IMG_SHAPE = (IMG_SIZE, IMG_SIZE, 3)\n",
    "\n",
    "# Create the base model from the pre-trained model MobileNet V2\n",
    "base_model = tf.keras.applications.MobileNetV2(input_shape = IMG_SHAPE,\n",
    "                                               include_top = False, \n",
    "                                               alpha       = ALPHA,\n",
    "                                               weights     = 'imagenet')"
   ]
  },
  {
   "cell_type": "code",
   "execution_count": null,
   "metadata": {
    "colab": {},
    "colab_type": "code",
    "id": "MM7ND9QBkqOR"
   },
   "outputs": [],
   "source": [
    "base_model.trainable = False"
   ]
  },
  {
   "cell_type": "code",
   "execution_count": null,
   "metadata": {
    "colab": {},
    "colab_type": "code",
    "id": "M2qKwbs9kqOU"
   },
   "outputs": [],
   "source": [
    "model = tf.keras.Sequential([\n",
    "    base_model,\n",
    "    keras.layers.GlobalAveragePooling2D(),\n",
    "    keras.layers.Dense(NUMBER_OF_LABELS, activation='softmax')\n",
    "])"
   ]
  },
  {
   "cell_type": "code",
   "execution_count": null,
   "metadata": {
    "colab": {},
    "colab_type": "code",
    "id": "HysNORygkqOW"
   },
   "outputs": [],
   "source": [
    "base_learning_rate = 2.5e-5\n",
    "model.compile(optimizer = tf.keras.optimizers.Adam(lr=base_learning_rate), \n",
    "              loss      = 'sparse_categorical_crossentropy', \n",
    "              metrics   = ['accuracy'])"
   ]
  },
  {
   "cell_type": "code",
   "execution_count": null,
   "metadata": {
    "colab": {
     "base_uri": "https://localhost:8080/",
     "height": 252
    },
    "colab_type": "code",
    "id": "poqqhtFMkqOY",
    "outputId": "1986fbaf-7840-4611-ece4-b06ec7df58d5"
   },
   "outputs": [],
   "source": [
    "model.summary()"
   ]
  },
  {
   "cell_type": "markdown",
   "metadata": {
    "colab_type": "text",
    "id": "GNAlmo1CkqOd"
   },
   "source": [
    "# Train model"
   ]
  },
  {
   "cell_type": "code",
   "execution_count": null,
   "metadata": {
    "colab": {
     "base_uri": "https://localhost:8080/",
     "height": 5359
    },
    "colab_type": "code",
    "id": "sVVDyZ-YkqOh",
    "outputId": "6ab0a4e2-a7e3-4762-b787-3a6383645e53"
   },
   "outputs": [],
   "source": [
    "epochs          = 150\n",
    "steps_per_epoch = TRAIN_FILES//BATCH_SIZE\n",
    "val_steps       =   VAL_FILES//BATCH_SIZE\n",
    "\n",
    "time_fp = time_footprint()\n",
    "log_dir = os.path.join(LOG_DIR, 'task_1', time_fp)\n",
    "os.makedirs(log_dir)\n",
    "\n",
    "checkpoint_path = log_dir + \"/task_1_\" + time_fp + \".ckpt\"\n",
    "\n",
    "callbacks = [\n",
    "    tf.keras.callbacks.TensorBoard(log_dir=log_dir),\n",
    "    tf.keras.callbacks.ModelCheckpoint(checkpoint_path,\n",
    "                                       save_weights_only=True,\n",
    "                                       verbose=1,\n",
    "                                       save_best_only=True,\n",
    "                                       monitor='val_loss')\n",
    "]\n",
    "\n",
    "\n",
    "history = model.fit(train_ds,\n",
    "                    epochs           = epochs,\n",
    "                    steps_per_epoch  = steps_per_epoch,\n",
    "                    validation_data  = val_ds, \n",
    "                    validation_steps = val_steps,\n",
    "                    callbacks        = callbacks)\n",
    "\n",
    "\n",
    "val_acc = history.history['val_accuracy'][0]\n",
    "\n",
    "model_name = \"task_1_\" + time_fp + '_acc_' + f'{val_acc:.4f}' + '.h5'\n",
    "model.save(MODEL_DIR + '/' + model_name)"
   ]
  }
 ],
 "metadata": {
  "accelerator": "GPU",
  "colab": {
   "collapsed_sections": [],
   "name": "Task_1.ipynb",
   "provenance": [],
   "toc_visible": true,
   "version": "0.3.2"
  },
  "kernelspec": {
   "display_name": "Python 3",
   "language": "python",
   "name": "python3"
  },
  "language_info": {
   "codemirror_mode": {
    "name": "ipython",
    "version": 3
   },
   "file_extension": ".py",
   "mimetype": "text/x-python",
   "name": "python",
   "nbconvert_exporter": "python",
   "pygments_lexer": "ipython3",
   "version": "3.6.7"
  }
 },
 "nbformat": 4,
 "nbformat_minor": 2
}
