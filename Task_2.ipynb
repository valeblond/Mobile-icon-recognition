{
 "cells": [
  {
   "cell_type": "markdown",
   "metadata": {},
   "source": [
    "Imports needen only in Colab"
   ]
  },
  {
   "cell_type": "code",
   "execution_count": null,
   "metadata": {
    "colab": {
     "base_uri": "https://localhost:8080/",
     "height": 35
    },
    "colab_type": "code",
    "id": "jnqSxY6j1tcJ",
    "outputId": "63e84eb2-9503-48aa-b27f-790492ba6d3a"
   },
   "outputs": [],
   "source": [
    "# !pip install -q tensorflow-gpu==2.0.0-beta0\n",
    "\n",
    "# import os\n",
    "# from google.colab import drive\n",
    "# drive.mount('/content/drive/')\n",
    "# try:\n",
    "#     os.chdir(\"drive/My Drive/snr/project\")\n",
    "# except FileNotFoundError:\n",
    "#     pass"
   ]
  },
  {
   "cell_type": "markdown",
   "metadata": {},
   "source": [
    "All other imports"
   ]
  },
  {
   "cell_type": "code",
   "execution_count": null,
   "metadata": {
    "colab": {},
    "colab_type": "code",
    "id": "wFLputAN1tcf"
   },
   "outputs": [],
   "source": [
    "import os\n",
    "\n",
    "import tensorflow as tf\n",
    "from tensorflow import keras\n",
    "\n",
    "AUTOTUNE = tf.data.experimental.AUTOTUNE\n",
    "\n",
    "import numpy as np\n",
    "\n",
    "import matplotlib.pyplot as plt\n",
    "import matplotlib.image as mpimg\n",
    "\n",
    "from definitions import *\n",
    "from preprocessing import load_datasets, time_footprint"
   ]
  },
  {
   "cell_type": "markdown",
   "metadata": {
    "colab_type": "text",
    "id": "32G6TXYU1tcq"
   },
   "source": [
    "# Load datasets"
   ]
  },
  {
   "cell_type": "code",
   "execution_count": null,
   "metadata": {
    "colab": {},
    "colab_type": "code",
    "id": "warR39dt1tct"
   },
   "outputs": [],
   "source": [
    "train_ds, test_ds, val_ds = load_datasets()"
   ]
  },
  {
   "cell_type": "markdown",
   "metadata": {
    "colab_type": "text",
    "id": "pQicQ1po1tc2"
   },
   "source": [
    "# Create model"
   ]
  },
  {
   "cell_type": "code",
   "execution_count": null,
   "metadata": {
    "colab": {},
    "colab_type": "code",
    "id": "qXAmzxd31tc4"
   },
   "outputs": [],
   "source": [
    "ALPHA = 1.0  # controls the width of the network\n",
    "IMG_SHAPE = (IMG_SIZE, IMG_SIZE, 3)\n",
    "\n",
    "# Create the base model from the pre-trained model MobileNet V2\n",
    "base_model = tf.keras.applications.MobileNetV2(input_shape = IMG_SHAPE,\n",
    "                                               include_top = False, \n",
    "                                               alpha       = ALPHA,\n",
    "                                               weights     = 'imagenet')"
   ]
  },
  {
   "cell_type": "markdown",
   "metadata": {
    "colab_type": "text",
    "id": "9GolrGx_1tc-"
   },
   "source": [
    "**MobileNetV2** model's last 3 layers are: **Conv2D**, **BatchNormalization**, **ReLU**. So to make last convolution layer trainable we need to set all layers, expect last 3, as non-trainable."
   ]
  },
  {
   "cell_type": "code",
   "execution_count": null,
   "metadata": {
    "colab": {},
    "colab_type": "code",
    "id": "0v3lfP1m1tdC"
   },
   "outputs": [],
   "source": [
    "base_model.trainable = True\n",
    "for layer in base_model.layers[:-3]:\n",
    "    layer.trainable = False"
   ]
  },
  {
   "cell_type": "code",
   "execution_count": null,
   "metadata": {
    "colab": {},
    "colab_type": "code",
    "id": "FO23AJpS1tdI"
   },
   "outputs": [],
   "source": [
    "model = tf.keras.Sequential([\n",
    "    base_model,\n",
    "    keras.layers.GlobalAveragePooling2D(),\n",
    "    keras.layers.Dense(NUMBER_OF_LABELS, activation='softmax')\n",
    "])"
   ]
  },
  {
   "cell_type": "code",
   "execution_count": null,
   "metadata": {
    "colab": {},
    "colab_type": "code",
    "id": "Cr2A9XSD1tdP"
   },
   "outputs": [],
   "source": [
    "base_learning_rate = 2.5e-5\n",
    "model.compile(optimizer = tf.keras.optimizers.Adam(lr=base_learning_rate), \n",
    "              loss      = 'sparse_categorical_crossentropy', \n",
    "              metrics   = ['accuracy'])"
   ]
  },
  {
   "cell_type": "code",
   "execution_count": null,
   "metadata": {
    "colab": {
     "base_uri": "https://localhost:8080/",
     "height": 274
    },
    "colab_type": "code",
    "id": "b8Bcrzmj1tdY",
    "outputId": "5c23222a-a782-4211-ab22-f9fedee2b776"
   },
   "outputs": [],
   "source": [
    "model.summary()"
   ]
  },
  {
   "cell_type": "markdown",
   "metadata": {
    "colab_type": "text",
    "id": "IYhtR6mL1tdt"
   },
   "source": [
    "# Train model"
   ]
  },
  {
   "cell_type": "code",
   "execution_count": null,
   "metadata": {
    "colab": {
     "base_uri": "https://localhost:8080/",
     "height": 5490
    },
    "colab_type": "code",
    "id": "frhOf9yO1tdw",
    "outputId": "a4641856-2a0d-435b-f70d-2140e2843b4a"
   },
   "outputs": [],
   "source": [
    "epochs          = 150\n",
    "steps_per_epoch = TRAIN_FILES//BATCH_SIZE\n",
    "val_steps       =   VAL_FILES//BATCH_SIZE\n",
    "\n",
    "time_fp = time_footprint()\n",
    "log_dir = os.path.join(LOG_DIR, 'task_2', time_fp)\n",
    "os.makedirs(log_dir)\n",
    "\n",
    "checkpoint_path = log_dir + \"/task_2_\" + time_fp + \".ckpt\"\n",
    "\n",
    "\n",
    "callbacks = [\n",
    "    keras.callbacks.TensorBoard(log_dir=log_dir),\n",
    "    tf.keras.callbacks.ModelCheckpoint(checkpoint_path,\n",
    "                                       save_weights_only=True,\n",
    "                                       verbose=1,\n",
    "                                       save_best_only=True,\n",
    "                                       monitor='val_loss')\n",
    "]\n",
    "\n",
    "\n",
    "history = model.fit(train_ds,\n",
    "                    epochs           = epochs,\n",
    "                    steps_per_epoch  = steps_per_epoch,\n",
    "                    validation_data  = val_ds, \n",
    "                    validation_steps = val_steps,\n",
    "                    callbacks        = callbacks)\n",
    "\n",
    "\n",
    "val_acc = history.history['val_accuracy'][0]\n",
    "\n",
    "model_name = \"task_2_\" + time_fp + '_acc_' + f'{val_acc:.4f}' + '.h5'\n",
    "model.save(MODEL_DIR + '/' + model_name)"
   ]
  }
 ],
 "metadata": {
  "accelerator": "GPU",
  "colab": {
   "collapsed_sections": [],
   "name": "Task_2.ipynb",
   "provenance": [],
   "version": "0.3.2"
  },
  "kernelspec": {
   "display_name": "Python 3",
   "language": "python",
   "name": "python3"
  },
  "language_info": {
   "codemirror_mode": {
    "name": "ipython",
    "version": 3
   },
   "file_extension": ".py",
   "mimetype": "text/x-python",
   "name": "python",
   "nbconvert_exporter": "python",
   "pygments_lexer": "ipython3",
   "version": "3.6.7"
  }
 },
 "nbformat": 4,
 "nbformat_minor": 2
}
