{
 "cells": [
  {
   "cell_type": "markdown",
   "metadata": {},
   "source": [
    "# Explore dataset"
   ]
  },
  {
   "cell_type": "markdown",
   "metadata": {},
   "source": [
    "## Download icons dataset"
   ]
  },
  {
   "cell_type": "code",
   "execution_count": 1,
   "metadata": {},
   "outputs": [
    {
     "name": "stdout",
     "output_type": "stream",
     "text": [
      "common-mobile-web-app-icons.zip: Skipping, found more recently modified local copy (use --force to force download)\n"
     ]
    }
   ],
   "source": [
    "import kaggle\n",
    "from definitions import *\n",
    "\n",
    "kaggle.api.authenticate()\n",
    "kaggle.api.dataset_download_files(dataset_name, path=raw_data_dir, unzip=True, quiet=False)"
   ]
  },
  {
   "cell_type": "markdown",
   "metadata": {},
   "source": [
    "## Analize dataset's files"
   ]
  },
  {
   "cell_type": "markdown",
   "metadata": {},
   "source": [
    "Get labels from dataset directory"
   ]
  },
  {
   "cell_type": "code",
   "execution_count": 2,
   "metadata": {},
   "outputs": [],
   "source": [
    "import os\n",
    "\n",
    "labels = [f.name for f in os.scandir(raw_data_dir) if f.is_dir()]"
   ]
  },
  {
   "cell_type": "markdown",
   "metadata": {},
   "source": [
    "Create list of all images in dataset"
   ]
  },
  {
   "cell_type": "code",
   "execution_count": 3,
   "metadata": {},
   "outputs": [],
   "source": [
    "files = []\n",
    "for label in labels:\n",
    "    label_dir = os.path.join(raw_data_dir, label)\n",
    "    files += [os.path.join(label_dir, f.name) for f in os.scandir(label_dir) if f.is_file()]\n",
    "\n",
    "# Remove not images from dataset\n",
    "not_jpg = [f for f in files if not f.endswith(\".jpg\")]\n",
    "files = [file for file in files if file not in not_jpg]"
   ]
  },
  {
   "cell_type": "markdown",
   "metadata": {},
   "source": [
    "Shuffle files"
   ]
  },
  {
   "cell_type": "code",
   "execution_count": 4,
   "metadata": {},
   "outputs": [],
   "source": [
    "import random\n",
    "\n",
    "random.shuffle(files)"
   ]
  },
  {
   "cell_type": "markdown",
   "metadata": {},
   "source": [
    "### Show sample images"
   ]
  },
  {
   "cell_type": "code",
   "execution_count": 5,
   "metadata": {},
   "outputs": [
    {
     "data": {
      "image/jpeg": "[encoded data removed]",
      "text/plain": [
       "<IPython.core.display.Image object>"
      ]
     },
     "metadata": {},
     "output_type": "display_data"
    },
    {
     "data": {
      "image/jpeg": "[encoded data removed]",
      "text/plain": [
       "<IPython.core.display.Image object>"
      ]
     },
     "metadata": {},
     "output_type": "display_data"
    },
    {
     "data": {
      "image/jpeg": "[encoded data removed]",
      "text/plain": [
       "<IPython.core.display.Image object>"
      ]
     },
     "metadata": {},
     "output_type": "display_data"
    }
   ],
   "source": [
    "import IPython.display as display\n",
    "\n",
    "for _ in range(3):\n",
    "    image_path = random.choice(files)\n",
    "    display.display(display.Image(image_path))"
   ]
  },
  {
   "cell_type": "markdown",
   "metadata": {},
   "source": [
    "## Find duplicated images"
   ]
  },
  {
   "cell_type": "code",
   "execution_count": 6,
   "metadata": {},
   "outputs": [
    {
     "data": {
      "text/plain": [
       "[('~7636c9f8da9a82f9.jpg', 7),\n",
       " ('_7636c9f8da9a82f9.jpg', 7),\n",
       " ('_71c642b31e5890a1.jpg', 6),\n",
       " ('~71c642b31e5890a1.jpg', 6),\n",
       " ('~f5e0d92dab954478.jpg', 5),\n",
       " ('_82eec5ad244bc79d.jpg', 5),\n",
       " ('_f5e0d92dab954478.jpg', 5),\n",
       " ('~82eec5ad244bc79d.jpg', 5),\n",
       " ('_f3ac971cf0d3cf59.jpg', 5),\n",
       " ('_b717e2fa17208265.jpg', 5),\n",
       " ('~b717e2fa17208265.jpg', 5),\n",
       " ('~f3ac971cf0d3cf59.jpg', 5),\n",
       " ('~17744bb6a4ed1d9d.jpg', 4),\n",
       " ('_96c5023576733f88.jpg', 4),\n",
       " ('~96c5023576733f88.jpg', 4)]"
      ]
     },
     "execution_count": 6,
     "metadata": {},
     "output_type": "execute_result"
    }
   ],
   "source": [
    "from collections import Counter\n",
    "\n",
    "# Find images that are present in multiple labels\n",
    "fnames = [file.split(\"\\\\\")[-1] for file in files]\n",
    "duplicated_names = [(name, count) for name, count in Counter(fnames).items() if count > 1]\n",
    "duplicated_names = sorted(duplicated_names, key=lambda x: x[1], reverse=True)\n",
    "\n",
    "duplicated_names[:15]"
   ]
  },
  {
   "cell_type": "markdown",
   "metadata": {},
   "source": [
    "## Get list of images sizes \n",
    "(**This may take several minutes**)"
   ]
  },
  {
   "cell_type": "code",
   "execution_count": null,
   "metadata": {},
   "outputs": [
    {
     "name": "stdout",
     "output_type": "stream",
     "text": [
      "Processed 2600 out of 20000 images"
     ]
    }
   ],
   "source": [
    "from PIL import Image\n",
    "\n",
    "i = 0\n",
    "limit = 20000 # Set limit to speed it up\n",
    "images_sizes = Counter()\n",
    "for i, image_path in enumerate(files[:limit]):\n",
    "    with Image.open(image_path) as img:\n",
    "        images_sizes[img.size] += 1 # (width, height)\n",
    "    if (i + 1) % (limit // 100) == 0:\n",
    "        print(\"\\rProcessed %d out of %d images\" % (i + 1, limit), end=\"\")\n",
    "        \n",
    "images_sizes.most_common(10)"
   ]
  },
  {
   "cell_type": "markdown",
   "metadata": {},
   "source": [
    "## Count images for each label "
   ]
  },
  {
   "cell_type": "code",
   "execution_count": 7,
   "metadata": {},
   "outputs": [],
   "source": [
    "images_count_org = Counter()\n",
    "images_count_aug = Counter()\n",
    "for file in files:\n",
    "    label = file.split(\"\\\\\")[-2]\n",
    "    name = file.split(\"\\\\\")[-1]\n",
    "    \n",
    "    if name.startswith(\"_\"):\n",
    "        images_count_org[label] += 1\n",
    "    else:\n",
    "        images_count_aug[label] += 1"
   ]
  },
  {
   "cell_type": "code",
   "execution_count": 8,
   "metadata": {},
   "outputs": [
    {
     "data": {
      "text/html": [
       "<script type=\"text/javascript\">window.PlotlyConfig = {MathJaxConfig: 'local'};</script><script type=\"text/javascript\">if (window.MathJax) {MathJax.Hub.Config({SVG: {font: \"STIX-Web\"}});}</script><script>requirejs.config({paths: { 'plotly': ['https://cdn.plot.ly/plotly-latest.min']},});if(!window._Plotly) {require(['plotly'],function(plotly) {window._Plotly=plotly;});}</script>"
      ],
      "text/vnd.plotly.v1+html": [
       "<script type=\"text/javascript\">window.PlotlyConfig = {MathJaxConfig: 'local'};</script><script type=\"text/javascript\">if (window.MathJax) {MathJax.Hub.Config({SVG: {font: \"STIX-Web\"}});}</script><script>requirejs.config({paths: { 'plotly': ['https://cdn.plot.ly/plotly-latest.min']},});if(!window._Plotly) {require(['plotly'],function(plotly) {window._Plotly=plotly;});}</script>"
      ]
     },
     "metadata": {},
     "output_type": "display_data"
    },
    {
     "data": {
      "application/vnd.plotly.v1+json": {
       "config": {
        "linkText": "Export to plot.ly",
        "plotlyServerURL": "https://plot.ly",
        "showLink": false
       },
       "data": [
        {
         "name": "Orginal images count",
         "type": "bar",
         "uid": "774130b2-f37a-4c89-b386-1b8b3142a3c6",
         "x": [
          "_negative",
          "folder",
          "camera",
          "home",
          "car",
          "cart",
          "menu",
          "airplane",
          "chart",
          "settings",
          "cloud",
          "user",
          "flag",
          "close",
          "volume",
          "calculator",
          "light_bulb",
          "location",
          "link",
          "laptop",
          "arrow_down",
          "credit_card",
          "map",
          "computer",
          "battery",
          "globe",
          "save",
          "mobile",
          "music",
          "cut",
          "share",
          "lock",
          "signal",
          "arrow_up",
          "check_mark",
          "headphones",
          "mail",
          "video_camera",
          "ticket",
          "tag",
          "search",
          "dollar",
          "arrow_left",
          "moon",
          "bookmark",
          "notifications",
          "megaphone",
          "eye",
          "television",
          "delete",
          "trash",
          "question",
          "bluetooth",
          "filter",
          "clock",
          "send",
          "calendar",
          "refresh",
          "unlock",
          "play",
          "favorite",
          "dashboard",
          "file",
          "gift",
          "printer",
          "trophy",
          "call",
          "edit",
          "mute",
          "info",
          "thumbs_up",
          "alarm",
          "rewind",
          "add",
          "minimize",
          "qr_code",
          "arrow_right",
          "warning",
          "fire",
          "reply",
          "cursor",
          "grid",
          "sort",
          "maximize",
          "microphone",
          "crop",
          "brightness",
          "bag",
          "barcode",
          "fast_forward",
          "download",
          "flashlight",
          "fingerprint",
          "contrast",
          "external_link",
          "facebook",
          "upload",
          "fab",
          "overflow_menu",
          "profile_avatar",
          "google",
          "twitter",
          "inbox",
          "attach",
          "gmail",
          "pinterest"
         ],
         "y": [
          5282,
          1938,
          1632,
          1542,
          1527,
          1320,
          1283,
          1280,
          1269,
          1255,
          1235,
          1231,
          1200,
          1188,
          1185,
          1171,
          1128,
          1118,
          1100,
          1090,
          1077,
          1027,
          1023,
          1011,
          1000,
          1000,
          980,
          975,
          969,
          934,
          906,
          906,
          905,
          880,
          870,
          860,
          846,
          835,
          833,
          829,
          811,
          789,
          788,
          785,
          781,
          779,
          751,
          727,
          725,
          703,
          695,
          680,
          676,
          650,
          641,
          641,
          624,
          609,
          567,
          550,
          543,
          538,
          537,
          536,
          527,
          523,
          506,
          503,
          496,
          494,
          488,
          484,
          483,
          428,
          418,
          407,
          402,
          400,
          386,
          377,
          375,
          372,
          353,
          343,
          340,
          331,
          296,
          266,
          247,
          234,
          233,
          172,
          163,
          159,
          131,
          120,
          118,
          102,
          96,
          55,
          52,
          22,
          10,
          6,
          3,
          2
         ]
        },
        {
         "name": "Augmented images count",
         "type": "bar",
         "uid": "1d78c1b4-9862-4ab2-b537-50d79f700b19",
         "x": [
          "_negative",
          "folder",
          "camera",
          "home",
          "car",
          "cart",
          "menu",
          "airplane",
          "chart",
          "settings",
          "cloud",
          "user",
          "flag",
          "close",
          "volume",
          "calculator",
          "light_bulb",
          "location",
          "link",
          "laptop",
          "arrow_down",
          "credit_card",
          "map",
          "computer",
          "battery",
          "globe",
          "save",
          "mobile",
          "music",
          "cut",
          "share",
          "lock",
          "signal",
          "arrow_up",
          "check_mark",
          "headphones",
          "mail",
          "video_camera",
          "ticket",
          "tag",
          "search",
          "dollar",
          "arrow_left",
          "moon",
          "bookmark",
          "notifications",
          "megaphone",
          "eye",
          "television",
          "delete",
          "trash",
          "question",
          "bluetooth",
          "filter",
          "clock",
          "send",
          "calendar",
          "refresh",
          "unlock",
          "play",
          "favorite",
          "dashboard",
          "file",
          "gift",
          "printer",
          "trophy",
          "call",
          "edit",
          "mute",
          "info",
          "thumbs_up",
          "alarm",
          "rewind",
          "add",
          "minimize",
          "qr_code",
          "arrow_right",
          "warning",
          "fire",
          "reply",
          "cursor",
          "grid",
          "sort",
          "maximize",
          "microphone",
          "crop",
          "brightness",
          "bag",
          "barcode",
          "fast_forward",
          "download",
          "flashlight",
          "fingerprint",
          "contrast",
          "external_link",
          "facebook",
          "upload",
          "fab",
          "overflow_menu",
          "profile_avatar",
          "google",
          "twitter",
          "inbox",
          "attach",
          "gmail",
          "pinterest"
         ],
         "y": [
          5282,
          1938,
          1632,
          1542,
          1527,
          1320,
          1283,
          1280,
          1269,
          1255,
          1235,
          1231,
          1200,
          1188,
          1185,
          1171,
          1128,
          1118,
          1100,
          1090,
          1077,
          1027,
          1023,
          1011,
          1000,
          1000,
          980,
          975,
          969,
          934,
          906,
          906,
          905,
          880,
          870,
          860,
          846,
          835,
          833,
          829,
          811,
          789,
          788,
          785,
          781,
          779,
          751,
          727,
          725,
          703,
          695,
          680,
          676,
          650,
          641,
          641,
          624,
          609,
          567,
          550,
          543,
          538,
          537,
          536,
          527,
          523,
          506,
          503,
          496,
          494,
          488,
          484,
          483,
          428,
          418,
          407,
          402,
          400,
          386,
          377,
          375,
          372,
          353,
          343,
          340,
          331,
          296,
          266,
          247,
          234,
          233,
          172,
          163,
          159,
          131,
          120,
          118,
          102,
          96,
          55,
          52,
          22,
          10,
          6,
          3,
          2
         ]
        }
       ],
       "layout": {
        "barmode": "stack",
        "showlegend": false
       }
      },
      "text/html": [
       "<div id=\"c8fb6103-79ed-41e9-ae3b-f1c5b46f0f82\" style=\"height: 525px; width: 100%;\" class=\"plotly-graph-div\"></div><script type=\"text/javascript\">require([\"plotly\"], function(Plotly) { window.PLOTLYENV=window.PLOTLYENV || {};window.PLOTLYENV.BASE_URL=\"https://plot.ly\";\n",
       "if (document.getElementById(\"c8fb6103-79ed-41e9-ae3b-f1c5b46f0f82\")) {\n",
       "    Plotly.newPlot(\"c8fb6103-79ed-41e9-ae3b-f1c5b46f0f82\", [{\"name\": \"Orginal images count\", \"x\": [\"_negative\", \"folder\", \"camera\", \"home\", \"car\", \"cart\", \"menu\", \"airplane\", \"chart\", \"settings\", \"cloud\", \"user\", \"flag\", \"close\", \"volume\", \"calculator\", \"light_bulb\", \"location\", \"link\", \"laptop\", \"arrow_down\", \"credit_card\", \"map\", \"computer\", \"battery\", \"globe\", \"save\", \"mobile\", \"music\", \"cut\", \"share\", \"lock\", \"signal\", \"arrow_up\", \"check_mark\", \"headphones\", \"mail\", \"video_camera\", \"ticket\", \"tag\", \"search\", \"dollar\", \"arrow_left\", \"moon\", \"bookmark\", \"notifications\", \"megaphone\", \"eye\", \"television\", \"delete\", \"trash\", \"question\", \"bluetooth\", \"filter\", \"clock\", \"send\", \"calendar\", \"refresh\", \"unlock\", \"play\", \"favorite\", \"dashboard\", \"file\", \"gift\", \"printer\", \"trophy\", \"call\", \"edit\", \"mute\", \"info\", \"thumbs_up\", \"alarm\", \"rewind\", \"add\", \"minimize\", \"qr_code\", \"arrow_right\", \"warning\", \"fire\", \"reply\", \"cursor\", \"grid\", \"sort\", \"maximize\", \"microphone\", \"crop\", \"brightness\", \"bag\", \"barcode\", \"fast_forward\", \"download\", \"flashlight\", \"fingerprint\", \"contrast\", \"external_link\", \"facebook\", \"upload\", \"fab\", \"overflow_menu\", \"profile_avatar\", \"google\", \"twitter\", \"inbox\", \"attach\", \"gmail\", \"pinterest\"], \"y\": [5282, 1938, 1632, 1542, 1527, 1320, 1283, 1280, 1269, 1255, 1235, 1231, 1200, 1188, 1185, 1171, 1128, 1118, 1100, 1090, 1077, 1027, 1023, 1011, 1000, 1000, 980, 975, 969, 934, 906, 906, 905, 880, 870, 860, 846, 835, 833, 829, 811, 789, 788, 785, 781, 779, 751, 727, 725, 703, 695, 680, 676, 650, 641, 641, 624, 609, 567, 550, 543, 538, 537, 536, 527, 523, 506, 503, 496, 494, 488, 484, 483, 428, 418, 407, 402, 400, 386, 377, 375, 372, 353, 343, 340, 331, 296, 266, 247, 234, 233, 172, 163, 159, 131, 120, 118, 102, 96, 55, 52, 22, 10, 6, 3, 2], \"type\": \"bar\", \"uid\": \"774130b2-f37a-4c89-b386-1b8b3142a3c6\"}, {\"name\": \"Augmented images count\", \"x\": [\"_negative\", \"folder\", \"camera\", \"home\", \"car\", \"cart\", \"menu\", \"airplane\", \"chart\", \"settings\", \"cloud\", \"user\", \"flag\", \"close\", \"volume\", \"calculator\", \"light_bulb\", \"location\", \"link\", \"laptop\", \"arrow_down\", \"credit_card\", \"map\", \"computer\", \"battery\", \"globe\", \"save\", \"mobile\", \"music\", \"cut\", \"share\", \"lock\", \"signal\", \"arrow_up\", \"check_mark\", \"headphones\", \"mail\", \"video_camera\", \"ticket\", \"tag\", \"search\", \"dollar\", \"arrow_left\", \"moon\", \"bookmark\", \"notifications\", \"megaphone\", \"eye\", \"television\", \"delete\", \"trash\", \"question\", \"bluetooth\", \"filter\", \"clock\", \"send\", \"calendar\", \"refresh\", \"unlock\", \"play\", \"favorite\", \"dashboard\", \"file\", \"gift\", \"printer\", \"trophy\", \"call\", \"edit\", \"mute\", \"info\", \"thumbs_up\", \"alarm\", \"rewind\", \"add\", \"minimize\", \"qr_code\", \"arrow_right\", \"warning\", \"fire\", \"reply\", \"cursor\", \"grid\", \"sort\", \"maximize\", \"microphone\", \"crop\", \"brightness\", \"bag\", \"barcode\", \"fast_forward\", \"download\", \"flashlight\", \"fingerprint\", \"contrast\", \"external_link\", \"facebook\", \"upload\", \"fab\", \"overflow_menu\", \"profile_avatar\", \"google\", \"twitter\", \"inbox\", \"attach\", \"gmail\", \"pinterest\"], \"y\": [5282, 1938, 1632, 1542, 1527, 1320, 1283, 1280, 1269, 1255, 1235, 1231, 1200, 1188, 1185, 1171, 1128, 1118, 1100, 1090, 1077, 1027, 1023, 1011, 1000, 1000, 980, 975, 969, 934, 906, 906, 905, 880, 870, 860, 846, 835, 833, 829, 811, 789, 788, 785, 781, 779, 751, 727, 725, 703, 695, 680, 676, 650, 641, 641, 624, 609, 567, 550, 543, 538, 537, 536, 527, 523, 506, 503, 496, 494, 488, 484, 483, 428, 418, 407, 402, 400, 386, 377, 375, 372, 353, 343, 340, 331, 296, 266, 247, 234, 233, 172, 163, 159, 131, 120, 118, 102, 96, 55, 52, 22, 10, 6, 3, 2], \"type\": \"bar\", \"uid\": \"1d78c1b4-9862-4ab2-b537-50d79f700b19\"}], {\"barmode\": \"stack\", \"showlegend\": false}, {\"showLink\": false, \"linkText\": \"Export to plot.ly\", \"plotlyServerURL\": \"https://plot.ly\"}); \n",
       "}\n",
       "});</script><script type=\"text/javascript\">window.addEventListener(\"resize\", function(){if (document.getElementById(\"c8fb6103-79ed-41e9-ae3b-f1c5b46f0f82\")) {window._Plotly.Plots.resize(document.getElementById(\"c8fb6103-79ed-41e9-ae3b-f1c5b46f0f82\"));};})</script>"
      ],
      "text/vnd.plotly.v1+html": [
       "<div id=\"c8fb6103-79ed-41e9-ae3b-f1c5b46f0f82\" style=\"height: 525px; width: 100%;\" class=\"plotly-graph-div\"></div><script type=\"text/javascript\">require([\"plotly\"], function(Plotly) { window.PLOTLYENV=window.PLOTLYENV || {};window.PLOTLYENV.BASE_URL=\"https://plot.ly\";\n",
       "if (document.getElementById(\"c8fb6103-79ed-41e9-ae3b-f1c5b46f0f82\")) {\n",
       "    Plotly.newPlot(\"c8fb6103-79ed-41e9-ae3b-f1c5b46f0f82\", [{\"name\": \"Orginal images count\", \"x\": [\"_negative\", \"folder\", \"camera\", \"home\", \"car\", \"cart\", \"menu\", \"airplane\", \"chart\", \"settings\", \"cloud\", \"user\", \"flag\", \"close\", \"volume\", \"calculator\", \"light_bulb\", \"location\", \"link\", \"laptop\", \"arrow_down\", \"credit_card\", \"map\", \"computer\", \"battery\", \"globe\", \"save\", \"mobile\", \"music\", \"cut\", \"share\", \"lock\", \"signal\", \"arrow_up\", \"check_mark\", \"headphones\", \"mail\", \"video_camera\", \"ticket\", \"tag\", \"search\", \"dollar\", \"arrow_left\", \"moon\", \"bookmark\", \"notifications\", \"megaphone\", \"eye\", \"television\", \"delete\", \"trash\", \"question\", \"bluetooth\", \"filter\", \"clock\", \"send\", \"calendar\", \"refresh\", \"unlock\", \"play\", \"favorite\", \"dashboard\", \"file\", \"gift\", \"printer\", \"trophy\", \"call\", \"edit\", \"mute\", \"info\", \"thumbs_up\", \"alarm\", \"rewind\", \"add\", \"minimize\", \"qr_code\", \"arrow_right\", \"warning\", \"fire\", \"reply\", \"cursor\", \"grid\", \"sort\", \"maximize\", \"microphone\", \"crop\", \"brightness\", \"bag\", \"barcode\", \"fast_forward\", \"download\", \"flashlight\", \"fingerprint\", \"contrast\", \"external_link\", \"facebook\", \"upload\", \"fab\", \"overflow_menu\", \"profile_avatar\", \"google\", \"twitter\", \"inbox\", \"attach\", \"gmail\", \"pinterest\"], \"y\": [5282, 1938, 1632, 1542, 1527, 1320, 1283, 1280, 1269, 1255, 1235, 1231, 1200, 1188, 1185, 1171, 1128, 1118, 1100, 1090, 1077, 1027, 1023, 1011, 1000, 1000, 980, 975, 969, 934, 906, 906, 905, 880, 870, 860, 846, 835, 833, 829, 811, 789, 788, 785, 781, 779, 751, 727, 725, 703, 695, 680, 676, 650, 641, 641, 624, 609, 567, 550, 543, 538, 537, 536, 527, 523, 506, 503, 496, 494, 488, 484, 483, 428, 418, 407, 402, 400, 386, 377, 375, 372, 353, 343, 340, 331, 296, 266, 247, 234, 233, 172, 163, 159, 131, 120, 118, 102, 96, 55, 52, 22, 10, 6, 3, 2], \"type\": \"bar\", \"uid\": \"774130b2-f37a-4c89-b386-1b8b3142a3c6\"}, {\"name\": \"Augmented images count\", \"x\": [\"_negative\", \"folder\", \"camera\", \"home\", \"car\", \"cart\", \"menu\", \"airplane\", \"chart\", \"settings\", \"cloud\", \"user\", \"flag\", \"close\", \"volume\", \"calculator\", \"light_bulb\", \"location\", \"link\", \"laptop\", \"arrow_down\", \"credit_card\", \"map\", \"computer\", \"battery\", \"globe\", \"save\", \"mobile\", \"music\", \"cut\", \"share\", \"lock\", \"signal\", \"arrow_up\", \"check_mark\", \"headphones\", \"mail\", \"video_camera\", \"ticket\", \"tag\", \"search\", \"dollar\", \"arrow_left\", \"moon\", \"bookmark\", \"notifications\", \"megaphone\", \"eye\", \"television\", \"delete\", \"trash\", \"question\", \"bluetooth\", \"filter\", \"clock\", \"send\", \"calendar\", \"refresh\", \"unlock\", \"play\", \"favorite\", \"dashboard\", \"file\", \"gift\", \"printer\", \"trophy\", \"call\", \"edit\", \"mute\", \"info\", \"thumbs_up\", \"alarm\", \"rewind\", \"add\", \"minimize\", \"qr_code\", \"arrow_right\", \"warning\", \"fire\", \"reply\", \"cursor\", \"grid\", \"sort\", \"maximize\", \"microphone\", \"crop\", \"brightness\", \"bag\", \"barcode\", \"fast_forward\", \"download\", \"flashlight\", \"fingerprint\", \"contrast\", \"external_link\", \"facebook\", \"upload\", \"fab\", \"overflow_menu\", \"profile_avatar\", \"google\", \"twitter\", \"inbox\", \"attach\", \"gmail\", \"pinterest\"], \"y\": [5282, 1938, 1632, 1542, 1527, 1320, 1283, 1280, 1269, 1255, 1235, 1231, 1200, 1188, 1185, 1171, 1128, 1118, 1100, 1090, 1077, 1027, 1023, 1011, 1000, 1000, 980, 975, 969, 934, 906, 906, 905, 880, 870, 860, 846, 835, 833, 829, 811, 789, 788, 785, 781, 779, 751, 727, 725, 703, 695, 680, 676, 650, 641, 641, 624, 609, 567, 550, 543, 538, 537, 536, 527, 523, 506, 503, 496, 494, 488, 484, 483, 428, 418, 407, 402, 400, 386, 377, 375, 372, 353, 343, 340, 331, 296, 266, 247, 234, 233, 172, 163, 159, 131, 120, 118, 102, 96, 55, 52, 22, 10, 6, 3, 2], \"type\": \"bar\", \"uid\": \"1d78c1b4-9862-4ab2-b537-50d79f700b19\"}], {\"barmode\": \"stack\", \"showlegend\": false}, {\"showLink\": false, \"linkText\": \"Export to plot.ly\", \"plotlyServerURL\": \"https://plot.ly\"}); \n",
       "}\n",
       "});</script><script type=\"text/javascript\">window.addEventListener(\"resize\", function(){if (document.getElementById(\"c8fb6103-79ed-41e9-ae3b-f1c5b46f0f82\")) {window._Plotly.Plots.resize(document.getElementById(\"c8fb6103-79ed-41e9-ae3b-f1c5b46f0f82\"));};})</script>"
      ]
     },
     "metadata": {},
     "output_type": "display_data"
    }
   ],
   "source": [
    "import plotly.offline as py\n",
    "import plotly.graph_objs as go\n",
    "\n",
    "py.init_notebook_mode(connected=True)\n",
    "\n",
    "count_data = []\n",
    "for label, org_count in dict(images_count_org).items():\n",
    "    aug_count = images_count_aug[label]\n",
    "    count_data.append((label, org_count, aug_count, org_count + aug_count))\n",
    "    \n",
    "count_data = sorted(count_data, reverse=True, key=lambda x: x[3])\n",
    "labels, org_count, aug_count, sum_count = zip(*count_data)\n",
    "\n",
    "trace_org = go.Bar(\n",
    "    x=labels,\n",
    "    y=org_count,\n",
    "    name='Orginal images count'\n",
    ")\n",
    "trace_aug = go.Bar(\n",
    "    x=labels,\n",
    "    y=aug_count,\n",
    "    name='Augmented images count'\n",
    ")\n",
    "\n",
    "data = [trace_org, trace_aug]\n",
    "layout = go.Layout(\n",
    "    barmode='stack',\n",
    "    showlegend=False\n",
    ")\n",
    "\n",
    "fig = go.Figure(data=data, layout=layout)\n",
    "py.iplot(fig, filename='stacked-bar')"
   ]
  }
 ],
 "metadata": {
  "kernelspec": {
   "display_name": "Python [conda env:snr] *",
   "language": "python",
   "name": "conda-env-snr-py"
  },
  "language_info": {
   "codemirror_mode": {
    "name": "ipython",
    "version": 3
   },
   "file_extension": ".py",
   "mimetype": "text/x-python",
   "name": "python",
   "nbconvert_exporter": "python",
   "pygments_lexer": "ipython3",
   "version": "3.6.7"
  }
 },
 "nbformat": 4,
 "nbformat_minor": 2
}
